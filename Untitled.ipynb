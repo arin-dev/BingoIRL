{
 "cells": [
  {
   "cell_type": "code",
   "execution_count": null,
   "id": "7ef4050c-975a-450e-847d-9e6461b10951",
   "metadata": {},
   "outputs": [],
   "source": [
    "import vertexai\n",
    "from vertexai.generative_models import GenerativeModel\n",
    "\n",
    "# TODO(developer): Update and un-comment below line\n",
    "project_id = \"PROJECT_ID\"\n",
    "\n",
    "vertexai.init(project=project_id, location=\"us-central1\")\n",
    "\n",
    "model = GenerativeModel(\"gemini-1.5-flash-001\")\n",
    "\n",
    "prompt = \"Why is the sky blue?\"\n",
    "\n",
    "# Prompt tokens count\n",
    "response = model.count_tokens(prompt)\n",
    "print(f\"Prompt Token Count: {response.total_tokens}\")\n",
    "print(f\"Prompt Character Count: {response.total_billable_characters}\")\n",
    "\n",
    "# Send text to Gemini\n",
    "response = model.generate_content(prompt)\n",
    "\n",
    "# Response tokens count\n",
    "usage_metadata = response.usage_metadata\n",
    "print(f\"Prompt Token Count: {usage_metadata.prompt_token_count}\")\n",
    "print(f\"Candidates Token Count: {usage_metadata.candidates_token_count}\")\n",
    "print(f\"Total Token Count: {usage_metadata.total_token_count}\")"
   ]
  }
 ],
 "metadata": {
  "kernelspec": {
   "display_name": "Python 3 (ipykernel)",
   "language": "python",
   "name": "python3"
  },
  "language_info": {
   "codemirror_mode": {
    "name": "ipython",
    "version": 3
   },
   "file_extension": ".py",
   "mimetype": "text/x-python",
   "name": "python",
   "nbconvert_exporter": "python",
   "pygments_lexer": "ipython3",
   "version": "3.12.3"
  }
 },
 "nbformat": 4,
 "nbformat_minor": 5
}
